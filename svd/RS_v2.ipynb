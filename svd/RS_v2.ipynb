{
 "cells": [
  {
   "cell_type": "code",
   "execution_count": 1,
   "id": "48cf304d",
   "metadata": {},
   "outputs": [],
   "source": [
    "import pandas as pd\n",
    "import numpy as np\n",
    "import seaborn as sns\n",
    "import scipy"
   ]
  },
  {
   "cell_type": "markdown",
   "id": "5be98591",
   "metadata": {},
   "source": [
    "### Get and explore data\n",
    "Dataset - https://www.kaggle.com/grouplens/movielens-20m-dataset"
   ]
  },
  {
   "cell_type": "code",
   "execution_count": 2,
   "id": "721ce896",
   "metadata": {},
   "outputs": [
    {
     "data": {
      "text/html": [
       "<div>\n",
       "<style scoped>\n",
       "    .dataframe tbody tr th:only-of-type {\n",
       "        vertical-align: middle;\n",
       "    }\n",
       "\n",
       "    .dataframe tbody tr th {\n",
       "        vertical-align: top;\n",
       "    }\n",
       "\n",
       "    .dataframe thead th {\n",
       "        text-align: right;\n",
       "    }\n",
       "</style>\n",
       "<table border=\"1\" class=\"dataframe\">\n",
       "  <thead>\n",
       "    <tr style=\"text-align: right;\">\n",
       "      <th></th>\n",
       "      <th>userId</th>\n",
       "      <th>movieId</th>\n",
       "      <th>rating</th>\n",
       "      <th>timestamp</th>\n",
       "    </tr>\n",
       "  </thead>\n",
       "  <tbody>\n",
       "    <tr>\n",
       "      <th>0</th>\n",
       "      <td>1</td>\n",
       "      <td>2</td>\n",
       "      <td>3.5</td>\n",
       "      <td>2005-04-02 23:53:47</td>\n",
       "    </tr>\n",
       "    <tr>\n",
       "      <th>1</th>\n",
       "      <td>1</td>\n",
       "      <td>29</td>\n",
       "      <td>3.5</td>\n",
       "      <td>2005-04-02 23:31:16</td>\n",
       "    </tr>\n",
       "    <tr>\n",
       "      <th>2</th>\n",
       "      <td>1</td>\n",
       "      <td>32</td>\n",
       "      <td>3.5</td>\n",
       "      <td>2005-04-02 23:33:39</td>\n",
       "    </tr>\n",
       "    <tr>\n",
       "      <th>3</th>\n",
       "      <td>1</td>\n",
       "      <td>47</td>\n",
       "      <td>3.5</td>\n",
       "      <td>2005-04-02 23:32:07</td>\n",
       "    </tr>\n",
       "    <tr>\n",
       "      <th>4</th>\n",
       "      <td>1</td>\n",
       "      <td>50</td>\n",
       "      <td>3.5</td>\n",
       "      <td>2005-04-02 23:29:40</td>\n",
       "    </tr>\n",
       "  </tbody>\n",
       "</table>\n",
       "</div>"
      ],
      "text/plain": [
       "   userId  movieId  rating            timestamp\n",
       "0       1        2     3.5  2005-04-02 23:53:47\n",
       "1       1       29     3.5  2005-04-02 23:31:16\n",
       "2       1       32     3.5  2005-04-02 23:33:39\n",
       "3       1       47     3.5  2005-04-02 23:32:07\n",
       "4       1       50     3.5  2005-04-02 23:29:40"
      ]
     },
     "execution_count": 2,
     "metadata": {},
     "output_type": "execute_result"
    }
   ],
   "source": [
    "df = pd.read_csv('C:/N/UCU/1_sem_2020/linear algebra/final project/data/MovieLens/rating.csv')\n",
    "df = df.head(100000)\n",
    "df.head()"
   ]
  },
  {
   "cell_type": "code",
   "execution_count": 3,
   "id": "05ac9c84",
   "metadata": {},
   "outputs": [
    {
     "name": "stdout",
     "output_type": "stream",
     "text": [
      "Number of users 702\n",
      "Number of movies 8227\n",
      "  userId movieId  rating            timestamp\n",
      "0      1       2     3.5  2005-04-02 23:53:47\n",
      "1      1      29     3.5  2005-04-02 23:31:16\n",
      "2      1      32     3.5  2005-04-02 23:33:39\n",
      "3      1      47     3.5  2005-04-02 23:32:07\n",
      "4      1      50     3.5  2005-04-02 23:29:40\n"
     ]
    }
   ],
   "source": [
    "df['userId'] = df['userId'].astype('str')\n",
    "df['movieId'] = df['movieId'].astype('str')\n",
    "#list of all users and movies\n",
    "users = df['userId'].unique() \n",
    "movies = df['movieId'].unique() \n",
    "print(\"Number of users\", len(users))\n",
    "print(\"Number of movies\", len(movies))\n",
    "print(df.head())"
   ]
  },
  {
   "cell_type": "code",
   "execution_count": 4,
   "id": "69238c8f",
   "metadata": {},
   "outputs": [
    {
     "name": "stdout",
     "output_type": "stream",
     "text": [
      "<class 'pandas.core.frame.DataFrame'>\n",
      "RangeIndex: 100000 entries, 0 to 99999\n",
      "Data columns (total 4 columns):\n",
      " #   Column     Non-Null Count   Dtype  \n",
      "---  ------     --------------   -----  \n",
      " 0   userId     100000 non-null  object \n",
      " 1   movieId    100000 non-null  object \n",
      " 2   rating     100000 non-null  float64\n",
      " 3   timestamp  100000 non-null  object \n",
      "dtypes: float64(1), object(3)\n",
      "memory usage: 3.1+ MB\n"
     ]
    }
   ],
   "source": [
    "df.info()"
   ]
  },
  {
   "cell_type": "code",
   "execution_count": 5,
   "id": "4567e4b0",
   "metadata": {},
   "outputs": [
    {
     "ename": "NameError",
     "evalue": "name 'plt' is not defined",
     "output_type": "error",
     "traceback": [
      "\u001b[1;31m---------------------------------------------------------------------------\u001b[0m",
      "\u001b[1;31mNameError\u001b[0m                                 Traceback (most recent call last)",
      "\u001b[1;32mC:\\Users\\1E1B~1\\AppData\\Local\\Temp/ipykernel_16724/785684512.py\u001b[0m in \u001b[0;36m<module>\u001b[1;34m\u001b[0m\n\u001b[0;32m      1\u001b[0m \u001b[0msns\u001b[0m\u001b[1;33m.\u001b[0m\u001b[0mcountplot\u001b[0m\u001b[1;33m(\u001b[0m\u001b[0mx\u001b[0m\u001b[1;33m=\u001b[0m\u001b[0mdf\u001b[0m\u001b[1;33m[\u001b[0m\u001b[1;34m'rating'\u001b[0m\u001b[1;33m]\u001b[0m\u001b[1;33m,\u001b[0m \u001b[0mdata\u001b[0m\u001b[1;33m=\u001b[0m\u001b[0mdf\u001b[0m\u001b[1;33m,\u001b[0m \u001b[0mpalette\u001b[0m\u001b[1;33m=\u001b[0m\u001b[1;34m\"viridis\"\u001b[0m\u001b[1;33m)\u001b[0m\u001b[1;33m\u001b[0m\u001b[1;33m\u001b[0m\u001b[0m\n\u001b[1;32m----> 2\u001b[1;33m \u001b[0mplt\u001b[0m\u001b[1;33m.\u001b[0m\u001b[0mtitle\u001b[0m\u001b[1;33m(\u001b[0m\u001b[1;34m\"Distribution of movie ratings\"\u001b[0m\u001b[1;33m,\u001b[0m \u001b[0mfontsize\u001b[0m\u001b[1;33m=\u001b[0m\u001b[1;36m14\u001b[0m\u001b[1;33m)\u001b[0m\u001b[1;33m\u001b[0m\u001b[1;33m\u001b[0m\u001b[0m\n\u001b[0m\u001b[0;32m      3\u001b[0m \u001b[0mplt\u001b[0m\u001b[1;33m.\u001b[0m\u001b[0mshow\u001b[0m\u001b[1;33m(\u001b[0m\u001b[1;33m)\u001b[0m\u001b[1;33m\u001b[0m\u001b[1;33m\u001b[0m\u001b[0m\n",
      "\u001b[1;31mNameError\u001b[0m: name 'plt' is not defined"
     ]
    },
    {
     "data": {
      "image/png": "[encoded data removed]",
      "text/plain": [
       "<Figure size 432x288 with 1 Axes>"
      ]
     },
     "metadata": {
      "needs_background": "light"
     },
     "output_type": "display_data"
    }
   ],
   "source": [
    "sns.countplot(x=df['rating'], data=df, palette=\"viridis\")\n",
    "plt.title(\"Distribution of movie ratings\", fontsize=14)\n",
    "plt.show()"
   ]
  },
  {
   "cell_type": "code",
   "execution_count": 6,
   "id": "921673a2",
   "metadata": {},
   "outputs": [
    {
     "data": {
      "text/plain": [
       "3.507605"
      ]
     },
     "execution_count": 6,
     "metadata": {},
     "output_type": "execute_result"
    }
   ],
   "source": [
    "# Find mean ratings for movies:\n",
    "mean_rating = df['rating'].mean()\n",
    "mean_rating"
   ]
  },
  {
   "cell_type": "markdown",
   "id": "87564954",
   "metadata": {},
   "source": [
    "### Train and Test split"
   ]
  },
  {
   "cell_type": "code",
   "execution_count": 11,
   "id": "36ef2191",
   "metadata": {},
   "outputs": [],
   "source": [
    "from sklearn.model_selection import train_test_split\n",
    "from sklearn.metrics import classification_report "
   ]
  },
  {
   "cell_type": "code",
   "execution_count": 12,
   "id": "255e697d",
   "metadata": {},
   "outputs": [],
   "source": [
    "train = pd.DataFrame(columns=df.columns)\n",
    "test = pd.DataFrame(columns=df.columns)\n",
    "\n",
    "#20 percent of the dataset will be allocated to the test set and 80 percent will be allocated to the training set\n",
    "test_per = 0.2 \n",
    "\n",
    "for x in users:\n",
    "    temp = df[df['userId'] == x]\n",
    "    n = len(temp)\n",
    "    test_size = int(test_per*n)\n",
    "\n",
    "#take latest data about rating for a test (not a random split)\n",
    "temp = temp.sort_values('timestamp').reset_index()\n",
    "temp.drop('index', axis=1, inplace=True)\n",
    "    \n",
    "dummy_train = temp.loc[: n-2-test_size]\n",
    "dummy_test = temp.loc[n-1-test_size :]\n",
    "\n",
    "train = pd.concat([train, dummy_train])    \n",
    "test = pd.concat([test, dummy_test])\n"
   ]
  },
  {
   "cell_type": "code",
   "execution_count": null,
   "id": "3a6c5510",
   "metadata": {},
   "outputs": [],
   "source": []
  },
  {
   "cell_type": "markdown",
   "id": "804ce40d",
   "metadata": {},
   "source": [
    "### Create Utility Matrix 1.0 (n x m), n=users, m=items"
   ]
  },
  {
   "cell_type": "code",
   "execution_count": null,
   "id": "582864a9",
   "metadata": {},
   "outputs": [],
   "source": [
    "from scipy.linalg import sqrtm"
   ]
  },
  {
   "cell_type": "markdown",
   "id": "11244988",
   "metadata": {},
   "source": [
    "We create a corpus that keep a key-value pairs for each column. \n",
    "Utility Matrix is  a 2D matrix where one axis belongs to the users and the other axis belongs to the movies. So the value at (i,j) location of the matrix will be the rating that user i gave for movie j."
   ]
  },
  {
   "cell_type": "code",
   "execution_count": null,
   "id": "c4439d1b",
   "metadata": {},
   "outputs": [],
   "source": [
    "#we transform the column userId to column 0 for the key ‘user’, column movieId to column 1 for key ‘item’ \n",
    "#and column ratings to column 2 for key ‘value’.\n",
    "def create_X0_matrix(data, formatizer = {'user':0, 'item': 1, 'value': 2}):\n",
    "     \n",
    "    itemField = formatizer['item']\n",
    "    userField = formatizer['user']\n",
    "    valueField = formatizer['value']\n",
    "    \n",
    "    userList = data.loc[:,userField].tolist()\n",
    "    itemList = data.loc[:,itemField].tolist()\n",
    "    valueList = data.loc[:,valueField].tolist()\n",
    "    \n",
    "    users = list(set(data.loc[:,userField]))\n",
    "    items = list(set(data.loc[:,itemField]))\n",
    "    users_index = {users[i]: i for i in range(len(users))}\n",
    "    \n",
    "    pd_dict = {item: [np.nan for i in range(len(users))] for item in items}\n",
    "    for i in range(0,len(data)):\n",
    "        item = itemList[i]\n",
    "        user = userList[i]\n",
    "        value = valueList[i]\n",
    "    pd_dict[item][users_index[user]] = value\n",
    "    X0 = pd.DataFrame(pd_dict)\n",
    "    X0.index = users\n",
    "        \n",
    "    itemcols = list(X0.columns)\n",
    "    items_index = {itemcols[i]: i for i in range(len(itemcols))}\n",
    "  \n",
    "    return X0, users_index, items_index"
   ]
  },
  {
   "cell_type": "code",
   "execution_count": null,
   "id": "b156ef15",
   "metadata": {},
   "outputs": [],
   "source": [
    "#!!!! NOT WORK (NameError: name 'X0' is not defined)\n",
    "X0"
   ]
  },
  {
   "cell_type": "markdown",
   "id": "b2b8b3d7",
   "metadata": {},
   "source": [
    "### Create Utility Matrix 2.0"
   ]
  },
  {
   "cell_type": "code",
   "execution_count": 9,
   "id": "bba851f7",
   "metadata": {},
   "outputs": [],
   "source": [
    "from scipy.sparse import csr_matrix"
   ]
  },
  {
   "cell_type": "markdown",
   "id": "381b9e7d",
   "metadata": {},
   "source": [
    "The create_X() function outputs a sparse matrix X with four mapper dictionaries:\n",
    "\n",
    "user_mapper: maps user id to user index\n",
    "item_mapper: maps movie id to movie index\n",
    "user_inv_mapper: maps user index to user id\n",
    "item_inv_mapper: maps movie index to movie id\n",
    "We need these dictionaries because they map which row/column of the utility matrix corresponds to which user/movie id.\n",
    "\n",
    "Our X (user-item) matrix is a scipy.sparse.csr_matrix which stores the data sparsely."
   ]
  },
  {
   "cell_type": "code",
   "execution_count": 13,
   "id": "add1798f",
   "metadata": {
    "scrolled": true
   },
   "outputs": [
    {
     "name": "stdout",
     "output_type": "stream",
     "text": [
      "Index(['userId', 'movieId', 'rating', 'timestamp'], dtype='object')\n",
      "(165, 1)\n"
     ]
    }
   ],
   "source": [
    "def create_X(df):\n",
    "      \n",
    "    N = len(df['userId'].unique())\n",
    "    M = len(df['movieId'].unique())\n",
    "      \n",
    "    # Map Ids to indices\n",
    "    user_mapper = dict(zip(np.unique(df[\"userId\"]), list(range(N))))\n",
    "    item_mapper = dict(zip(np.unique(df[\"movieId\"]), list(range(M))))\n",
    "      \n",
    "    # Map indices to IDs\n",
    "    user_inv_mapper = dict(zip(list(range(N)), np.unique(df[\"userId\"])))\n",
    "    item_inv_mapper = dict(zip(list(range(M)), np.unique(df[\"movieId\"])))\n",
    "      \n",
    "    user_index = [user_mapper[i] for i in df['userId']]\n",
    "    item_index = [item_mapper[i] for i in df['movieId']]\n",
    "  \n",
    "    print(df.columns)\n",
    "    X = csr_matrix((df[\"rating\"], (item_index, user_index)), shape=(M, N))\n",
    "    \n",
    "    print(X.shape)\n",
    "      \n",
    "    return X, user_mapper, item_mapper, user_inv_mapper, item_inv_mapper\n",
    "  \n",
    "#!!!! NOT WORK (NameError: name 'rating' is not defined)\n",
    "X, user_mapper, item_mapper, user_inv_mapper, item_inv_mapper = create_X(train)"
   ]
  },
  {
   "cell_type": "code",
   "execution_count": null,
   "id": "7e88c6a3",
   "metadata": {},
   "outputs": [],
   "source": []
  },
  {
   "cell_type": "markdown",
   "id": "cca23c4a",
   "metadata": {},
   "source": [
    "### Item-item Recommendations with k-Nearest Neighbors"
   ]
  },
  {
   "cell_type": "code",
   "execution_count": null,
   "id": "a3af43b7",
   "metadata": {},
   "outputs": [],
   "source": [
    "from sklearn.neighbors import NearestNeighbors"
   ]
  },
  {
   "cell_type": "code",
   "execution_count": null,
   "id": "65be0f7b",
   "metadata": {},
   "outputs": [],
   "source": [
    "def find_similar_movies(movie_id, X, item_mapper, item_inv_mapper, k, metric='cosine'):\n",
    "    \"\"\"\n",
    "    Finds k-nearest neighbours for a given movie id.\n",
    "\n",
    "    Args:\n",
    "        movie_id: id of the movie of interest\n",
    "        X: user-item utility matrix\n",
    "        k: number of similar movies to retrieve\n",
    "        metric: distance metric for kNN calculations\n",
    "\n",
    "    Output: returns list of k similar movie ID's\n",
    "    \"\"\"\n",
    "    X = X.T\n",
    "    neighbour_ids = []\n",
    "\n",
    "    movie_ind = item_mapper[movie_id]\n",
    "    movie_vec = X[movie_ind]\n",
    "    if isinstance(movie_vec, (np.ndarray)):\n",
    "        movie_vec = movie_vec.reshape(1,-1)\n",
    "    # use k+1 since kNN output includes the movieId of interest\n",
    "    kNN = NearestNeighbors(n_neighbors=k+1, algorithm=\"brute\", metric=metric)\n",
    "    kNN.fit(X)\n",
    "    neighbour = kNN.kneighbors(movie_vec, return_distance=False)\n",
    "    for i in range(0,k):\n",
    "        n = neighbour.item(i)\n",
    "        neighbour_ids.append(movie_inv_mapper[n])\n",
    "    neighbour_ids.pop(0)\n",
    "    return neighbour_ids"
   ]
  },
  {
   "cell_type": "code",
   "execution_count": null,
   "id": "48648db7",
   "metadata": {},
   "outputs": [],
   "source": [
    "#!!!! NOT WORK (NameError: name 'neighbour_ids' is not defined)\n",
    "print (neighbour_ids)"
   ]
  },
  {
   "cell_type": "code",
   "execution_count": null,
   "id": "307737c7",
   "metadata": {
    "scrolled": true
   },
   "outputs": [],
   "source": [
    "#find_similar_movies() returns a list of movieId’s that are most similar to your movie of interest.\n",
    "similar_movies = find_similar_movies(1, X, item_mapper, item_inv_mapper, k=10)\n",
    "similar_movies"
   ]
  },
  {
   "cell_type": "code",
   "execution_count": null,
   "id": "74448498",
   "metadata": {},
   "outputs": [],
   "source": []
  },
  {
   "cell_type": "markdown",
   "id": "fc476b34",
   "metadata": {},
   "source": [
    "### SVD Computation\n",
    "decomposes a matrix into constituent arrays of feature vectors corresponding to each row and each column"
   ]
  },
  {
   "cell_type": "code",
   "execution_count": null,
   "id": "59a21fd2",
   "metadata": {},
   "outputs": [],
   "source": []
  },
  {
   "cell_type": "code",
   "execution_count": 21,
   "id": "d63ccd83",
   "metadata": {},
   "outputs": [],
   "source": [
    "def svd(train, k):\n",
    "    utilMat = train.to_numpy()\n",
    "    \n",
    "    # the nan or unavailable entries are masked\n",
    "    print(utilMat.shape)\n",
    "    print(utilMat.dtype)\n",
    "    mask = np.isnan(utilMat)\n",
    "    masked_arr = np.ma.masked_array(utilMat, mask)\n",
    "    item_means = np.mean(masked_arr, axis=0)\n",
    "    \n",
    "    # nan entries will replaced by the average rating for each item\n",
    "    utilMat = masked_arr.filled(item_means)\n",
    "    x = np.tile(item_means, (utilMat.shape[0],1))\n",
    "    \n",
    "    # we remove the per item average from all entries.\n",
    "    # the above mentioned nan entries will be essentially zero now\n",
    "    \n",
    "    utilMat = utilMat - x\n",
    "    \n",
    "    # U and V are user and item features\n",
    "    U, s, V=np.linalg.svd(utilMat, full_matrices=False)\n",
    "    s=np.diag(s)\n",
    "    # we take only the k most significant features\n",
    "    s=s[0:k,0:k]\n",
    "    U=U[:,0:k]\n",
    "    V=V[0:k,:]\n",
    "    s_root=sqrtm(s)\n",
    "    Usk=np.dot(U,s_root)\n",
    "    skV=np.dot(s_root,V)\n",
    "    UsV = np.dot(Usk, skV)\n",
    "    UsV = UsV + x\n",
    "    print('svd done')\n",
    "    return UsV"
   ]
  },
  {
   "cell_type": "code",
   "execution_count": 22,
   "id": "29d4c035",
   "metadata": {},
   "outputs": [
    {
     "name": "stdout",
     "output_type": "stream",
     "text": [
      "(165, 4)\n",
      "object\n"
     ]
    },
    {
     "ename": "TypeError",
     "evalue": "ufunc 'isnan' not supported for the input types, and the inputs could not be safely coerced to any supported types according to the casting rule ''safe''",
     "output_type": "error",
     "traceback": [
      "\u001b[1;31m---------------------------------------------------------------------------\u001b[0m",
      "\u001b[1;31mTypeError\u001b[0m                                 Traceback (most recent call last)",
      "\u001b[1;32mC:\\Users\\1E1B~1\\AppData\\Local\\Temp/ipykernel_16724/1233893954.py\u001b[0m in \u001b[0;36m<module>\u001b[1;34m\u001b[0m\n\u001b[0;32m      1\u001b[0m \u001b[1;31m#!!!! NOT WORK (NameError: name 'UsV' is not defined)\u001b[0m\u001b[1;33m\u001b[0m\u001b[1;33m\u001b[0m\u001b[0m\n\u001b[1;32m----> 2\u001b[1;33m \u001b[0mresult\u001b[0m \u001b[1;33m=\u001b[0m \u001b[0msvd\u001b[0m \u001b[1;33m(\u001b[0m\u001b[0mtrain\u001b[0m\u001b[1;33m,\u001b[0m \u001b[1;36m20\u001b[0m\u001b[1;33m)\u001b[0m\u001b[1;33m\u001b[0m\u001b[1;33m\u001b[0m\u001b[0m\n\u001b[0m",
      "\u001b[1;32mC:\\Users\\1E1B~1\\AppData\\Local\\Temp/ipykernel_16724/1255475557.py\u001b[0m in \u001b[0;36msvd\u001b[1;34m(train, k)\u001b[0m\n\u001b[0;32m      5\u001b[0m     \u001b[0mprint\u001b[0m\u001b[1;33m(\u001b[0m\u001b[0mutilMat\u001b[0m\u001b[1;33m.\u001b[0m\u001b[0mshape\u001b[0m\u001b[1;33m)\u001b[0m\u001b[1;33m\u001b[0m\u001b[1;33m\u001b[0m\u001b[0m\n\u001b[0;32m      6\u001b[0m     \u001b[0mprint\u001b[0m\u001b[1;33m(\u001b[0m\u001b[0mutilMat\u001b[0m\u001b[1;33m.\u001b[0m\u001b[0mdtype\u001b[0m\u001b[1;33m)\u001b[0m\u001b[1;33m\u001b[0m\u001b[1;33m\u001b[0m\u001b[0m\n\u001b[1;32m----> 7\u001b[1;33m     \u001b[0mmask\u001b[0m \u001b[1;33m=\u001b[0m \u001b[0mnp\u001b[0m\u001b[1;33m.\u001b[0m\u001b[0misnan\u001b[0m\u001b[1;33m(\u001b[0m\u001b[0mutilMat\u001b[0m\u001b[1;33m)\u001b[0m\u001b[1;33m\u001b[0m\u001b[1;33m\u001b[0m\u001b[0m\n\u001b[0m\u001b[0;32m      8\u001b[0m     \u001b[0mmasked_arr\u001b[0m \u001b[1;33m=\u001b[0m \u001b[0mnp\u001b[0m\u001b[1;33m.\u001b[0m\u001b[0mma\u001b[0m\u001b[1;33m.\u001b[0m\u001b[0mmasked_array\u001b[0m\u001b[1;33m(\u001b[0m\u001b[0mutilMat\u001b[0m\u001b[1;33m,\u001b[0m \u001b[0mmask\u001b[0m\u001b[1;33m)\u001b[0m\u001b[1;33m\u001b[0m\u001b[1;33m\u001b[0m\u001b[0m\n\u001b[0;32m      9\u001b[0m     \u001b[0mitem_means\u001b[0m \u001b[1;33m=\u001b[0m \u001b[0mnp\u001b[0m\u001b[1;33m.\u001b[0m\u001b[0mmean\u001b[0m\u001b[1;33m(\u001b[0m\u001b[0mmasked_arr\u001b[0m\u001b[1;33m,\u001b[0m \u001b[0maxis\u001b[0m\u001b[1;33m=\u001b[0m\u001b[1;36m0\u001b[0m\u001b[1;33m)\u001b[0m\u001b[1;33m\u001b[0m\u001b[1;33m\u001b[0m\u001b[0m\n",
      "\u001b[1;31mTypeError\u001b[0m: ufunc 'isnan' not supported for the input types, and the inputs could not be safely coerced to any supported types according to the casting rule ''safe''"
     ]
    }
   ],
   "source": [
    "#!!!! NOT WORK (NameError: name 'UsV' is not defined)\n",
    "result = svd (train, 20)"
   ]
  },
  {
   "cell_type": "code",
   "execution_count": null,
   "id": "69748d9f",
   "metadata": {},
   "outputs": [],
   "source": []
  },
  {
   "cell_type": "code",
   "execution_count": null,
   "id": "e72c4f4c",
   "metadata": {},
   "outputs": [],
   "source": []
  },
  {
   "cell_type": "code",
   "execution_count": null,
   "id": "98772396",
   "metadata": {},
   "outputs": [],
   "source": []
  }
 ],
 "metadata": {
  "kernelspec": {
   "display_name": "Python 3 (ipykernel)",
   "language": "python",
   "name": "python3"
  },
  "language_info": {
   "codemirror_mode": {
    "name": "ipython",
    "version": 3
   },
   "file_extension": ".py",
   "mimetype": "text/x-python",
   "name": "python",
   "nbconvert_exporter": "python",
   "pygments_lexer": "ipython3",
   "version": "3.9.7"
  }
 },
 "nbformat": 4,
 "nbformat_minor": 5
}
