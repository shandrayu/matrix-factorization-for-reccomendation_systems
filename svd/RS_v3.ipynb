{
 "cells": [
  {
   "cell_type": "code",
   "execution_count": null,
   "id": "48cf304d",
   "metadata": {},
   "outputs": [],
   "source": [
    "import pandas as pd\n",
    "import numpy as np\n",
    "import seaborn as sns\n",
    "import scipy\n",
    "\n",
    "import os"
   ]
  },
  {
   "cell_type": "markdown",
   "id": "5be98591",
   "metadata": {},
   "source": [
    "### Get and explore data\n",
    "Dataset - https://www.kaggle.com/grouplens/movielens-20m-dataset"
   ]
  },
  {
   "cell_type": "code",
   "execution_count": null,
   "id": "721ce896",
   "metadata": {},
   "outputs": [],
   "source": [
    "DATA_PATH = \"../data/100K\"\n",
    "df = pd.read_csv(os.path.join(DATA_PATH, 'rating.csv'))\n",
    "df.head()"
   ]
  },
  {
   "cell_type": "code",
   "execution_count": null,
   "id": "05ac9c84",
   "metadata": {},
   "outputs": [],
   "source": [
    "# Why do we need str here?\n",
    "# df['userId'] = df['userId'].astype('str')\n",
    "# df['movieId'] = df['movieId'].astype('str')\n",
    "#list of all users and movies\n",
    "users = df['userId'].unique() \n",
    "movies = df['movieId'].unique() \n",
    "print(\"Number of users\", len(users))\n",
    "print(\"Number of movies\", len(movies))\n",
    "print(df.head())"
   ]
  },
  {
   "cell_type": "code",
   "execution_count": null,
   "id": "4567e4b0",
   "metadata": {},
   "outputs": [],
   "source": [
    "axes = sns.countplot(x=df['rating'], data=df, palette=\"viridis\")"
   ]
  },
  {
   "cell_type": "code",
   "execution_count": null,
   "id": "921673a2",
   "metadata": {},
   "outputs": [],
   "source": [
    "# Find mean ratings for movies:\n",
    "mean_rating = df['rating'].mean()\n",
    "mean_rating"
   ]
  },
  {
   "cell_type": "markdown",
   "id": "87564954",
   "metadata": {},
   "source": [
    "### Train and Test split"
   ]
  },
  {
   "cell_type": "code",
   "execution_count": null,
   "id": "36ef2191",
   "metadata": {},
   "outputs": [],
   "source": [
    "from sklearn.model_selection import train_test_split\n",
    "from sklearn.metrics import classification_report "
   ]
  },
  {
   "cell_type": "code",
   "execution_count": null,
   "id": "255e697d",
   "metadata": {},
   "outputs": [],
   "source": [
    "train = pd.DataFrame(columns=df.columns)\n",
    "test = pd.DataFrame(columns=df.columns)\n",
    "\n",
    "#20 percent of the dataset will be allocated to the test set and 80 percent will be allocated to the training set\n",
    "test_per = 0.2 \n",
    "\n",
    "for x in users:\n",
    "    temp = df[df['userId'] == x]\n",
    "    n = len(temp)\n",
    "    test_size = int(test_per*n)\n",
    "\n",
    "    #take latest data about rating for a test (not a random split)\n",
    "    temp = temp.sort_values('timestamp').reset_index()\n",
    "    temp.drop('index', axis=1, inplace=True)\n",
    "        \n",
    "    dummy_train = temp.loc[: n-2-test_size]\n",
    "    dummy_test = temp.loc[n-1-test_size :]\n",
    "\n",
    "    train = pd.concat([train, dummy_train])    \n",
    "    test = pd.concat([test, dummy_test])\n"
   ]
  },
  {
   "cell_type": "markdown",
   "id": "b2b8b3d7",
   "metadata": {},
   "source": [
    "### Create Utility Matrix 2.0"
   ]
  },
  {
   "cell_type": "markdown",
   "id": "381b9e7d",
   "metadata": {},
   "source": [
    "The create_X() function outputs a sparse matrix X with four mapper dictionaries:\n",
    "\n",
    "user_mapper: maps user id to user index\n",
    "item_mapper: maps movie id to movie index\n",
    "user_inv_mapper: maps user index to user id\n",
    "item_inv_mapper: maps movie index to movie id\n",
    "We need these dictionaries because they map which row/column of the utility matrix corresponds to which user/movie id.\n",
    "\n",
    "Our X (user-item) matrix is a scipy.sparse.csr_matrix which stores the data sparsely."
   ]
  },
  {
   "cell_type": "code",
   "execution_count": null,
   "id": "add1798f",
   "metadata": {
    "scrolled": true
   },
   "outputs": [],
   "source": [
    "from scipy.sparse import csr_matrix\n",
    "\n",
    "def create_X(df):\n",
    "      \n",
    "    num_users = len(df['userId'].unique())\n",
    "    num_movies = len(df['movieId'].unique())\n",
    "      \n",
    "    # Map Ids to indices\n",
    "    user_mapper = dict(zip(np.unique(df[\"userId\"]), list(range(num_users))))\n",
    "    item_mapper = dict(zip(np.unique(df[\"movieId\"]), list(range(num_movies))))\n",
    "      \n",
    "    # Map indices to IDs\n",
    "    user_inverse_mapper = dict(zip(list(range(num_users)), np.unique(df[\"userId\"])))\n",
    "    item_inverse_mapper = dict(zip(list(range(num_movies)), np.unique(df[\"movieId\"])))\n",
    "      \n",
    "    user_index = [user_mapper[i] for i in df['userId']]\n",
    "    item_index = [item_mapper[i] for i in df['movieId']]\n",
    "  \n",
    "    # print(df[\"rating\"])\n",
    "    X = csr_matrix((df[\"rating\"].to_list(), (item_index, user_index)), shape=(num_movies, num_users))\n",
    "    \n",
    "    # print(X.shape)\n",
    "      \n",
    "    return X, user_mapper, item_mapper, user_inverse_mapper, item_inverse_mapper\n",
    "  \n",
    "utility_matrix, user_mapper, item_mapper, user_inverse_mapper, item_inverse_mapper = create_X(train)"
   ]
  },
  {
   "cell_type": "markdown",
   "id": "cca23c4a",
   "metadata": {},
   "source": [
    "### Item-item Recommendations with k-Nearest Neighbors"
   ]
  },
  {
   "cell_type": "code",
   "execution_count": null,
   "id": "a3af43b7",
   "metadata": {},
   "outputs": [],
   "source": [
    "from sklearn.neighbors import NearestNeighbors"
   ]
  },
  {
   "cell_type": "code",
   "execution_count": null,
   "id": "65be0f7b",
   "metadata": {},
   "outputs": [],
   "source": [
    "def find_similar_movies(movie_id, X, item_mapper, item_inv_mapper, movie_inv_mapper, k, metric='cosine'):\n",
    "    \"\"\"\n",
    "    Finds k-nearest neighbours for a given movie id.\n",
    "\n",
    "    Args:\n",
    "        movie_id: id of the movie of interest\n",
    "        X: user-item utility matrix\n",
    "        k: number of similar movies to retrieve\n",
    "        metric: distance metric for kNN calculations\n",
    "\n",
    "    Output: returns list of k similar movie ID's\n",
    "    \"\"\"\n",
    "    X = X.T\n",
    "    neighbour_ids = []\n",
    "\n",
    "    movie_ind = item_mapper[movie_id]\n",
    "    movie_vec = X[movie_ind]\n",
    "    if isinstance(movie_vec, (np.ndarray)):\n",
    "        movie_vec = movie_vec.reshape(1,-1)\n",
    "    # use k+1 since kNN output includes the movieId of interest\n",
    "    kNN = NearestNeighbors(n_neighbors=k+1, algorithm=\"brute\", metric=metric)\n",
    "    kNN.fit(X)\n",
    "    neighbour = kNN.kneighbors(movie_vec, return_distance=False)\n",
    "    for i in range(0,k):\n",
    "        n = neighbour.item(i)\n",
    "        neighbour_ids.append(movie_inv_mapper[n])\n",
    "    neighbour_ids.pop(0)\n",
    "    return neighbour_ids\n",
    "\n",
    "neighbour_ids = find_similar_movies(movie_id=3, X=utility_matrix, item_mapper=item_mapper, item_inv_mapper=item_inverse_mapper, movie_inv_mapper=item_inverse_mapper, k=10)\n",
    "print (neighbour_ids)"
   ]
  },
  {
   "cell_type": "code",
   "execution_count": null,
   "id": "c1a597fb",
   "metadata": {},
   "outputs": [],
   "source": [
    "# TODO: implement top-k predictor\n",
    "from sklearn.metrics import top_k_accuracy_score"
   ]
  },
  {
   "cell_type": "markdown",
   "id": "fc476b34",
   "metadata": {},
   "source": [
    "### SVD Computation\n",
    "decomposes a matrix into constituent arrays of feature vectors corresponding to each row and each column"
   ]
  },
  {
   "cell_type": "code",
   "execution_count": null,
   "id": "d63ccd83",
   "metadata": {},
   "outputs": [],
   "source": [
    "from scipy.linalg import sqrtm\n",
    "\n",
    "def svd(train, k):\n",
    "    utilMat = train.toarray()\n",
    "    \n",
    "    # the nan or unavailable entries are masked\n",
    "    print(utilMat.shape)\n",
    "    print(utilMat.dtype)\n",
    "    mask = np.isnan(utilMat)\n",
    "    masked_arr = np.ma.masked_array(utilMat, mask)\n",
    "    item_means = np.mean(masked_arr, axis=0)\n",
    "    \n",
    "    # nan entries will replaced by the average rating for each item\n",
    "    utilMat = masked_arr.filled(item_means)\n",
    "    item_average = np.tile(item_means, (utilMat.shape[0],1))\n",
    "    \n",
    "    # we remove the per item average from all entries.\n",
    "    # the above mentioned nan entries will be essentially zero now\n",
    "    \n",
    "    utilMat = utilMat - item_average\n",
    "    \n",
    "    # U and V are user and item features\n",
    "    U, S, V=np.linalg.svd(utilMat, full_matrices=False)\n",
    "    # S=np.diag(S)\n",
    "    # We take only the k most significant features\n",
    "    S=S[0:k]\n",
    "    U=U[:,0:k]\n",
    "    V=V[0:k,:]\n",
    "    # s_root=sqrtm(S)\n",
    "    # Usk=np.dot(U,s_root)\n",
    "    # skV=np.dot(s_root,V)\n",
    "    # UsV = np.dot(Usk, skV)\n",
    "    # UsV = UsV + x\n",
    "    print('SVD done')\n",
    "    return U, S, V, item_average\n",
    "\n",
    "U, S, V, item_average = svd(utility_matrix, 20)"
   ]
  },
  {
   "cell_type": "markdown",
   "id": "013134a5",
   "metadata": {},
   "source": [
    "Utility matrix is a user-rating matrix where "
   ]
  },
  {
   "cell_type": "code",
   "execution_count": null,
   "id": "624bb8ab",
   "metadata": {},
   "outputs": [],
   "source": [
    "P, S, Q = scipy.sparse.linalg.svds(utility_matrix, k=15)"
   ]
  },
  {
   "cell_type": "markdown",
   "id": "73d2c16e",
   "metadata": {},
   "source": [
    "P - user-feature matrix. Dimension: number of users by number of features.\n",
    "S - singular values\n",
    "Q - movie-feature matrix. Dimension: number of features by number of movies."
   ]
  },
  {
   "cell_type": "markdown",
   "id": "b49e0e0a",
   "metadata": {},
   "source": [
    "Prediction rule\n",
    "$$\n",
    "\\widetilde{r_{ui}} = \\sum_{f}{p_{userfeature} \\cdot \\sigma_{feature} \\cdot q_{itemfeature}}\n",
    "$$"
   ]
  },
  {
   "cell_type": "code",
   "execution_count": null,
   "id": "32080111",
   "metadata": {},
   "outputs": [],
   "source": [
    "test.head(3)"
   ]
  },
  {
   "cell_type": "code",
   "execution_count": null,
   "id": "aa0be074",
   "metadata": {},
   "outputs": [],
   "source": [
    "from collections import defaultdict\n",
    "item_mapper_default = defaultdict(lambda: -1, item_mapper)\n",
    "user_mapper_default = defaultdict(lambda: -1, user_mapper)"
   ]
  },
  {
   "cell_type": "code",
   "execution_count": null,
   "metadata": {},
   "outputs": [],
   "source": [
    "from sklearn.metrics import mean_absolute_error, mean_squared_error\n",
    "\n",
    "\n",
    "def predict_pair(user_id, item_id, P, S, Q):\n",
    "    item = item_mapper_default[item_id]\n",
    "    user = user_mapper_default[user_id]\n",
    "    if item == -1 or user == -1:\n",
    "        return None\n",
    "\n",
    "    return (P[item, :].dot(Q[:, user]) * S).sum()\n",
    "\n",
    "def predict(data, P, S, Q):\n",
    "    return np.array([\n",
    "        predict_pair(u_id, i_id, P, S, Q) # TODO: move  P, S, Q to internal data\n",
    "        for u_id, i_id in zip(data['userId'], data['movieId'])])\n",
    "        \n",
    "pred = predict(test, P, S, Q)\n",
    "pred[:20]"
   ]
  },
  {
   "cell_type": "code",
   "execution_count": null,
   "id": "5e96fef8",
   "metadata": {},
   "outputs": [],
   "source": [
    "# Drop movies that are not present in train set - we cannot predict anything for them\n",
    "test_rating = test['rating']\n",
    "not_present_in_train = np.where(pred == None)[0]\n",
    "test_rating.reset_index(drop=True, inplace=True)\n",
    "valid_test_rating = test_rating.drop(not_present_in_train)\n",
    "valid_prediction = pred[pred != None]\n",
    "\n",
    "# Clip predictions\n",
    "MIN_RATING = 0\n",
    "MAX_RATING = 5\n",
    "valid_prediction = np.clip(valid_prediction, MIN_RATING, MAX_RATING)\n",
    "display(valid_prediction[:20])\n",
    "\n",
    "mae = mean_absolute_error(valid_test_rating, valid_prediction)\n",
    "rmse = mean_squared_error(valid_test_rating, valid_prediction)\n",
    "print(f'Test MAE: {mae:.2f}')\n",
    "print(f'Test RMSE: {mae:.2f}')"
   ]
  }
 ],
 "metadata": {
  "kernelspec": {
   "display_name": "Python 3 (ipykernel)",
   "language": "python",
   "name": "python3"
  },
  "language_info": {
   "codemirror_mode": {
    "name": "ipython",
    "version": 3
   },
   "file_extension": ".py",
   "mimetype": "text/x-python",
   "name": "python",
   "nbconvert_exporter": "python",
   "pygments_lexer": "ipython3",
   "version": "3.8.10"
  }
 },
 "nbformat": 4,
 "nbformat_minor": 5
}
