{
 "cells": [
  {
   "cell_type": "code",
   "execution_count": 1,
   "id": "48cf304d",
   "metadata": {},
   "outputs": [],
   "source": [
    "import pandas as pd\n",
    "import numpy as np\n",
    "import seaborn as sns\n",
    "import scipy\n",
    "\n",
    "import os"
   ]
  },
  {
   "cell_type": "markdown",
   "id": "5be98591",
   "metadata": {},
   "source": [
    "### Get and explore data\n",
    "Dataset - https://www.kaggle.com/grouplens/movielens-20m-dataset"
   ]
  },
  {
   "cell_type": "code",
   "execution_count": 2,
   "id": "721ce896",
   "metadata": {},
   "outputs": [
    {
     "data": {
      "text/html": [
       "<div>\n",
       "<style scoped>\n",
       "    .dataframe tbody tr th:only-of-type {\n",
       "        vertical-align: middle;\n",
       "    }\n",
       "\n",
       "    .dataframe tbody tr th {\n",
       "        vertical-align: top;\n",
       "    }\n",
       "\n",
       "    .dataframe thead th {\n",
       "        text-align: right;\n",
       "    }\n",
       "</style>\n",
       "<table border=\"1\" class=\"dataframe\">\n",
       "  <thead>\n",
       "    <tr style=\"text-align: right;\">\n",
       "      <th></th>\n",
       "      <th>userId</th>\n",
       "      <th>movieId</th>\n",
       "      <th>rating</th>\n",
       "      <th>timestamp</th>\n",
       "    </tr>\n",
       "  </thead>\n",
       "  <tbody>\n",
       "    <tr>\n",
       "      <th>0</th>\n",
       "      <td>1</td>\n",
       "      <td>16</td>\n",
       "      <td>4.0</td>\n",
       "      <td>1217897793</td>\n",
       "    </tr>\n",
       "    <tr>\n",
       "      <th>1</th>\n",
       "      <td>1</td>\n",
       "      <td>24</td>\n",
       "      <td>1.5</td>\n",
       "      <td>1217895807</td>\n",
       "    </tr>\n",
       "    <tr>\n",
       "      <th>2</th>\n",
       "      <td>1</td>\n",
       "      <td>32</td>\n",
       "      <td>4.0</td>\n",
       "      <td>1217896246</td>\n",
       "    </tr>\n",
       "    <tr>\n",
       "      <th>3</th>\n",
       "      <td>1</td>\n",
       "      <td>47</td>\n",
       "      <td>4.0</td>\n",
       "      <td>1217896556</td>\n",
       "    </tr>\n",
       "    <tr>\n",
       "      <th>4</th>\n",
       "      <td>1</td>\n",
       "      <td>50</td>\n",
       "      <td>4.0</td>\n",
       "      <td>1217896523</td>\n",
       "    </tr>\n",
       "  </tbody>\n",
       "</table>\n",
       "</div>"
      ],
      "text/plain": [
       "   userId  movieId  rating   timestamp\n",
       "0       1       16     4.0  1217897793\n",
       "1       1       24     1.5  1217895807\n",
       "2       1       32     4.0  1217896246\n",
       "3       1       47     4.0  1217896556\n",
       "4       1       50     4.0  1217896523"
      ]
     },
     "execution_count": 2,
     "metadata": {},
     "output_type": "execute_result"
    }
   ],
   "source": [
    "DATA_PATH = \"../data/100K\"\n",
    "df = pd.read_csv(os.path.join(DATA_PATH, 'rating.csv'))\n",
    "movies_df = pd.read_csv(os.path.join(DATA_PATH, 'movie.csv'))\n",
    "df.head()"
   ]
  },
  {
   "cell_type": "code",
   "execution_count": 3,
   "id": "05ac9c84",
   "metadata": {},
   "outputs": [
    {
     "name": "stdout",
     "output_type": "stream",
     "text": [
      "Number of users 668\n",
      "Number of movies 10325\n",
      "   userId  movieId  rating   timestamp\n",
      "0       1       16     4.0  1217897793\n",
      "1       1       24     1.5  1217895807\n",
      "2       1       32     4.0  1217896246\n",
      "3       1       47     4.0  1217896556\n",
      "4       1       50     4.0  1217896523\n"
     ]
    }
   ],
   "source": [
    "users = df['userId'].unique() \n",
    "movies = df['movieId'].unique() \n",
    "print(\"Number of users\", len(users))\n",
    "print(\"Number of movies\", len(movies))\n",
    "print(df.head())"
   ]
  },
  {
   "cell_type": "code",
   "execution_count": 4,
   "id": "4567e4b0",
   "metadata": {},
   "outputs": [
    {
     "data": {
      "image/png": "[encoded data removed]",
      "text/plain": [
       "<Figure size 432x288 with 1 Axes>"
      ]
     },
     "metadata": {
      "needs_background": "light"
     },
     "output_type": "display_data"
    }
   ],
   "source": [
    "axes = sns.countplot(x=df['rating'], data=df, palette=\"viridis\")"
   ]
  },
  {
   "cell_type": "code",
   "execution_count": 5,
   "id": "921673a2",
   "metadata": {},
   "outputs": [
    {
     "data": {
      "text/plain": [
       "3.5168503593161127"
      ]
     },
     "execution_count": 5,
     "metadata": {},
     "output_type": "execute_result"
    }
   ],
   "source": [
    "mean_rating = df['rating'].mean()\n",
    "mean_rating"
   ]
  },
  {
   "cell_type": "code",
   "execution_count": 6,
   "id": "0b11f02b",
   "metadata": {},
   "outputs": [
    {
     "data": {
      "text/plain": [
       "0             16\n",
       "1             24\n",
       "2             32\n",
       "3             47\n",
       "4             50\n",
       "           ...  \n",
       "105334    142488\n",
       "105335    142507\n",
       "105336    143385\n",
       "105337    144976\n",
       "105338    148626\n",
       "Name: movieId, Length: 105339, dtype: int64"
      ]
     },
     "execution_count": 6,
     "metadata": {},
     "output_type": "execute_result"
    }
   ],
   "source": [
    "df.movieId"
   ]
  },
  {
   "cell_type": "markdown",
   "id": "87564954",
   "metadata": {},
   "source": [
    "### Train and Test split"
   ]
  },
  {
   "cell_type": "code",
   "execution_count": 7,
   "id": "255e697d",
   "metadata": {},
   "outputs": [],
   "source": [
    "def user_based_train_test_split(df, test_percent):\n",
    "    \"\"\"\n",
    "    Split dataset based on users. The latest rating data (based on timestamp) goes to test\n",
    "    \n",
    "    Inspired by https://towardsdatascience.com/beginners-guide-to-creating-an-svd-recommender-system-1fd7326d1f65\n",
    "    \"\"\"\n",
    "    train = pd.DataFrame(columns=df.columns)\n",
    "    test = pd.DataFrame(columns=df.columns)\n",
    "\n",
    "    test_percent_fractions = test_percent / 100\n",
    "\n",
    "    for x in users:\n",
    "        temp = df[df['userId'] == x]\n",
    "        n = len(temp)\n",
    "        test_size = int(test_percent_fractions*n)\n",
    "\n",
    "        temp = temp.sort_values('timestamp').reset_index()\n",
    "        temp.drop('index', axis=1, inplace=True)\n",
    "            \n",
    "        dummy_train = temp.loc[: n-2-test_size]\n",
    "        dummy_test = temp.loc[n-1-test_size :]\n",
    "\n",
    "        train = pd.concat([train, dummy_train])    \n",
    "        test = pd.concat([test, dummy_test])\n",
    "    return train, test\n",
    "\n",
    "\n",
    "train, test = user_based_train_test_split(df, test_percent=20)"
   ]
  },
  {
   "cell_type": "markdown",
   "id": "b2b8b3d7",
   "metadata": {},
   "source": [
    "### Create Utility Matrix"
   ]
  },
  {
   "cell_type": "markdown",
   "id": "381b9e7d",
   "metadata": {},
   "source": [
    "The create_X() function outputs a sparse matrix X with four mapper dictionaries:\n",
    "\n",
    "user_mapper: maps user id to user index\n",
    "item_mapper: maps movie id to movie index\n",
    "user_inv_mapper: maps user index to user id\n",
    "item_inv_mapper: maps movie index to movie id\n",
    "We need these dictionaries because they map which row/column of the utility matrix corresponds to which user/movie id.\n",
    "\n",
    "Our X (user-item) matrix is a scipy.sparse.csr_matrix which stores the data sparsely."
   ]
  },
  {
   "cell_type": "code",
   "execution_count": 8,
   "id": "add1798f",
   "metadata": {
    "scrolled": true
   },
   "outputs": [],
   "source": [
    "from scipy.sparse import csr_matrix\n",
    "\n",
    "def create_utility_matrix(df):\n",
    "    \"\"\"\n",
    "    Function outputs a sparse matrix with four mapper dictionaries:\n",
    "\n",
    "    user_mapper: maps user id to user index\n",
    "    item_mapper: maps item id to item index\n",
    "    user_inv_mapper: maps user index to user id\n",
    "    item_inv_mapper: maps item index to item id\n",
    "\n",
    "    Inspired by https://www.jillcates.com/pydata-workshop/html/tutorial.html\n",
    "    \"\"\"\n",
    "    num_users = len(df['userId'].unique())\n",
    "    num_movies = len(df['movieId'].unique())\n",
    "      \n",
    "    # Map IDs to indices\n",
    "    user_mapper = dict(zip(np.unique(df[\"userId\"]), list(range(num_users))))\n",
    "    item_mapper = dict(zip(np.unique(df[\"movieId\"]), list(range(num_movies))))\n",
    "      \n",
    "    # Map indices to IDs\n",
    "    user_inverse_mapper = dict(zip(list(range(num_users)), np.unique(df[\"userId\"])))\n",
    "    item_inverse_mapper = dict(zip(list(range(num_movies)), np.unique(df[\"movieId\"])))\n",
    "      \n",
    "    user_index = [user_mapper[i] for i in df['userId']]\n",
    "    item_index = [item_mapper[i] for i in df['movieId']]\n",
    "  \n",
    "    X = csr_matrix((df[\"rating\"].to_list(), (user_index, item_index)), shape=(num_users, num_movies))\n",
    "          \n",
    "    return X, user_mapper, item_mapper, user_inverse_mapper, item_inverse_mapper\n",
    "  \n",
    "utility_matrix, user_mapper, item_mapper, user_inverse_mapper, item_inverse_mapper = create_utility_matrix(train)"
   ]
  },
  {
   "cell_type": "markdown",
   "id": "cca23c4a",
   "metadata": {},
   "source": [
    "### Item-item Recommendations with k-Nearest Neighbors"
   ]
  },
  {
   "cell_type": "markdown",
   "id": "a822aeca",
   "metadata": {},
   "source": [
    "Prediction for KNN algorithm (item based)\n",
    "$$\n",
    "\\hat{r}_{ui} = \\frac{\\sum_{j \\subseteq N_{u}^{k}(i)} sim(i,j) \\cdot r_{uj}}{\\sum_{j \\subseteq N_{u}^{k}(i)} sim(i,j)}\n",
    "$$\n",
    "\n",
    "where \n",
    " - $N_{i}^{k}(i)$ is a neighborhood of item $i$ of size $k$\n",
    " - $sim(i,j)$ similarity between chosen item and item from neighborhood\n",
    " - $r_{ui}$ rating that user u gave to item i"
   ]
  },
  {
   "cell_type": "code",
   "execution_count": 9,
   "id": "65be0f7b",
   "metadata": {},
   "outputs": [
    {
     "name": "stdout",
     "output_type": "stream",
     "text": [
      "3.524050461355738\n"
     ]
    }
   ],
   "source": [
    "from sklearn.neighbors import NearestNeighbors\n",
    "\n",
    "def get_average_rating(utility_matrix, item_idx):\n",
    "    \"\"\"\n",
    "    Calculate average rating based on existing ratings.\n",
    "\n",
    "    Zero values are skipped\n",
    "\n",
    "    Input:\n",
    "        utility_matrix - sparse numpy matrix. Format: items x users\n",
    "        movie_idx - internal movie index\n",
    "    \n",
    "    Output:\n",
    "        average rating\n",
    "    \"\"\"\n",
    "    all_movie_ratings = utility_matrix[item_idx, :]\n",
    "    average_rating = all_movie_ratings.sum() / all_movie_ratings.count_nonzero()\n",
    "    return average_rating\n",
    "\n",
    "class KNN:\n",
    "    \"\"\"\n",
    "    K nearest neighbors recommendations.\n",
    "    \n",
    "    Inspired by https://www.jillcates.com/pydata-workshop/html/tutorial.html\n",
    "    \"\"\"\n",
    "    def __init__(self) -> None:\n",
    "        pass\n",
    "\n",
    "    def train(self, X, item_mapper, item_inv_mapper, user_mapper, k, metric='cosine') -> None:\n",
    "        self.k = k\n",
    "        self.X = X.copy().T\n",
    "        self.item_mapper = item_mapper\n",
    "        self.item_inv_mapper = item_inv_mapper\n",
    "        self.user_mapper = user_mapper\n",
    "        self.kNN = NearestNeighbors(n_neighbors=self.k+1, algorithm=\"brute\", metric=metric)\n",
    "        self.kNN.fit(self.X)\n",
    "\n",
    "    def _item_id_2_internal_idx(self, item_id: int):\n",
    "        item_idx = self.item_mapper[item_id]\n",
    "        return item_idx\n",
    "\n",
    "    def _internal_idx_2_item_id(self, idx: int):\n",
    "        item_id = self.item_inv_mapper[idx]\n",
    "        return item_id\n",
    "\n",
    "    def _user_id_2_internal_idx(self, user_id: int):\n",
    "        user_idx = self.user_mapper[user_id]\n",
    "        return user_idx\n",
    "\n",
    "    def _get_neighbors(self, item_idx: int) -> np.array:\n",
    "        \"\"\"\n",
    "        Return k neighbors for item with internal index item_idx\n",
    "\n",
    "        Input:\n",
    "            item_idx - internal item index\n",
    "        Returns:\n",
    "            distances - list of distances form item to other items\n",
    "            neighbor_idxs - list of internal idxs\n",
    "        \"\"\"\n",
    "        item_vec = self.X[item_idx]\n",
    "        \n",
    "        if isinstance(item_vec, (np.ndarray)):\n",
    "            item_vec = item_vec.reshape(1,-1)\n",
    "        \n",
    "        distances_all, neighbor_idxs_all = self.kNN.kneighbors(item_vec, return_distance=True)\n",
    "        # The first neighbor is an item itself\n",
    "        distances = distances_all[:,1:]\n",
    "        neighbor_idxs = neighbor_idxs_all[:,1:]\n",
    "        return distances[0], neighbor_idxs[0]\n",
    "    \n",
    "    def _get_rating(self, user_idx, item_idx) -> float:\n",
    "        rating = self.X[item_idx, user_idx]\n",
    "        # TODO: floating point comparison. Rewrite condition\n",
    "        if rating != 0.0:\n",
    "            return rating\n",
    "        else:\n",
    "            return get_average_rating(self.X, item_idx)\n",
    "\n",
    "    def predict_item_based(self, user_id, item_id) -> float:\n",
    "        user_idx = self._user_id_2_internal_idx(user_id)\n",
    "        item_idx = self._item_id_2_internal_idx(item_id)\n",
    "        distances, similar_item_idxs = self._get_neighbors(item_idx)\n",
    "\n",
    "        # TODO: How to implement it better?\n",
    "        def rating_for_current_user(item_idx):\n",
    "            return self._get_rating(user_idx=user_idx, item_idx=item_idx)\n",
    "        rating_for_current_user_vectorized = np.vectorize(rating_for_current_user)\n",
    "        ratings = rating_for_current_user_vectorized(similar_item_idxs)\n",
    "        \n",
    "        predicted_rating = (distances * ratings).sum()/distances.sum()\n",
    "        return predicted_rating\n",
    "\n",
    "    def get_similar_items(self, item_id):\n",
    "        item_idx = self._item_id_2_internal_idx(item_id)\n",
    "        _, similar_item_idxs =  self._get_neighbors(item_idx)\n",
    "        \n",
    "        transformer_vectorized = np.vectorize(self._internal_idx_2_item_id)\n",
    "        similar_item_ids = transformer_vectorized(similar_item_idxs)\n",
    "        return similar_item_ids\n",
    "\n",
    "\n",
    "knn = KNN()\n",
    "knn.train(X=utility_matrix, item_mapper=item_mapper, item_inv_mapper=item_inverse_mapper, user_mapper=user_mapper, k=15)\n",
    "\n",
    "rating = knn.predict_item_based(9, 1275)\n",
    "print(rating)"
   ]
  },
  {
   "cell_type": "code",
   "execution_count": 10,
   "id": "2bd98413",
   "metadata": {},
   "outputs": [
    {
     "name": "stdout",
     "output_type": "stream",
     "text": [
      "Original movie: Sudden Death (1995)\n",
      "Recomendations: \n",
      "    Eye for an Eye (1996)\n",
      "    Quest, The (1996)\n",
      "    Substitute, The (1996)\n",
      "    Mr. Wrong (1996)\n",
      "    Pallbearer, The (1996)\n",
      "    Great White Hype, The (1996)\n",
      "    Rumble in the Bronx (Hont faan kui) (1995)\n",
      "    Executive Decision (1996)\n",
      "    Fear (1996)\n",
      "    Mulholland Falls (1996)\n",
      "    Phantom, The (1996)\n",
      "    It's My Party (1996)\n",
      "    Santa with Muscles (1996)\n",
      "    Switchblade Sisters (1975)\n",
      "    Denise Calls Up (1995)\n"
     ]
    }
   ],
   "source": [
    "def get_movie_title(df, id):\n",
    "    return df.loc[df.movieId == id, 'title'].item()\n",
    "\n",
    "movie_id = 9\n",
    "similar_movies = knn.get_similar_items(item_id=movie_id)\n",
    "\n",
    "print(f\"Original movie: {get_movie_title(movies_df, movie_id)}\")\n",
    "print(f\"Recomendations: \")\n",
    "for n in similar_movies:\n",
    "    print(f\"    {get_movie_title(movies_df, n)}\")"
   ]
  },
  {
   "cell_type": "markdown",
   "id": "fc476b34",
   "metadata": {},
   "source": [
    "### SVD full matrix computation (np.linalg.svd)\n"
   ]
  },
  {
   "cell_type": "markdown",
   "id": "73d2c16e",
   "metadata": {},
   "source": [
    "P - user-feature matrix. Dimension: number of users by number of features.\n",
    "S - singular values\n",
    "Q - movie-feature matrix. Dimension: number of features by number of movies."
   ]
  },
  {
   "cell_type": "markdown",
   "id": "b49e0e0a",
   "metadata": {},
   "source": [
    "Prediction rule\n",
    "$$\n",
    "\\widetilde{r_{ui}} = u + \\sum_{f}{p_{userfeature} \\cdot \\sigma_{feature} \\cdot q_{itemfeature}}\n",
    "$$\n",
    "where $u$ - item mean"
   ]
  },
  {
   "cell_type": "code",
   "execution_count": 11,
   "id": "d63ccd83",
   "metadata": {},
   "outputs": [],
   "source": [
    "def svd(train, num_features):\n",
    "    \"\"\"\n",
    "    Calculate full SVD and take only main num_features features\n",
    "    Decompose a matrix into arrays of feature vectors corresponding to each row and each column\n",
    "\n",
    "    Inspired by https://towardsdatascience.com/beginners-guide-to-creating-an-svd-recommender-system-1fd7326d1f65\n",
    "    \"\"\"\n",
    "    utilMat = train.toarray()\n",
    "    \n",
    "    # Mask NaN cells\n",
    "    mask = np.isnan(utilMat)\n",
    "    masked_arr = np.ma.masked_array(utilMat, mask)\n",
    "    item_means = np.mean(masked_arr, axis=0)\n",
    "    \n",
    "    # Replace NaN with averate rating for every item\n",
    "    utilMat = masked_arr.filled(item_means)\n",
    "    item_average = np.tile(item_means, (utilMat.shape[0], 1))\n",
    "    \n",
    "    # NaN will be zero this way\n",
    "    utilMat = utilMat - item_average\n",
    "    \n",
    "    U, S, V = np.linalg.svd(utilMat, full_matrices=False)\n",
    "    S = S[0:num_features]\n",
    "    U = U[:,0:num_features]\n",
    "    V = V[0:num_features,:]\n",
    "    return U, S, V, item_average\n",
    "\n",
    "num_features = 15\n",
    "U, S, V, item_average = svd(utility_matrix, num_features)"
   ]
  },
  {
   "cell_type": "code",
   "execution_count": 12,
   "id": "ee990fac",
   "metadata": {},
   "outputs": [
    {
     "data": {
      "text/plain": [
       "array([-0.10044425798463363, 12.409202650143111, 2.587578588975016,\n",
       "       7.675745327280214, 0.05949469520712025, 7.14972109538222,\n",
       "       0.498161595975506, 8.63563941243655, 1.5979556197452125,\n",
       "       2.5732028747264293, 3.854769500615833, 1.594939569283682,\n",
       "       -5.806061611041498, 2.1860062466371453, 0.3674602102848846,\n",
       "       -4.584481313213351, -2.996384842585737, 1.6120270900715994,\n",
       "       -2.4955645726444597, -0.7062459206522437], dtype=object)"
      ]
     },
     "execution_count": 12,
     "metadata": {},
     "output_type": "execute_result"
    }
   ],
   "source": [
    "from sklearn.metrics import mean_absolute_error, mean_squared_error\n",
    "from collections import defaultdict\n",
    "\n",
    "item_mapper_default = defaultdict(lambda: -1, item_mapper)\n",
    "user_mapper_default = defaultdict(lambda: -1, user_mapper)\n",
    "\n",
    "def predict_pair(user_id, item_id, P, S, Q, item_mean):\n",
    "    item = item_mapper_default[item_id]\n",
    "    user = user_mapper_default[user_id]\n",
    "    if item == -1 or user == -1:\n",
    "        return None\n",
    "    return (P[user, :].dot(Q[:, item]) * S).sum() + item_mean[0,item]\n",
    "\n",
    "def svd_predict(data, P, S, Q, item_mean):\n",
    "    return np.array([\n",
    "        predict_pair(u_id, i_id, P, S, Q, item_mean) # TODO: move  P, S, Q to internal data\n",
    "        for u_id, i_id in zip(data['userId'], data['movieId'])])\n",
    "    \n",
    "    \n",
    "pred = svd_predict(test, U, S, V, item_average)\n",
    "pred[:20]"
   ]
  },
  {
   "cell_type": "code",
   "execution_count": 13,
   "id": "ab04a954",
   "metadata": {},
   "outputs": [
    {
     "name": "stdout",
     "output_type": "stream",
     "text": [
      "Prediction examples\n",
      "Movie | True rating | Predicted rating\n",
      "All the King's Men (1949) | 4.0 | 2.2957427382735895\n",
      "21 (2008) | 3.0 | 2.292750928236001\n",
      "Jay and Silent Bob Strike Back (2001) | 2.0 | 0\n",
      "Insidious (2010) | 4.5 | 2.3103012296305687\n",
      "Zodiac (2007) | 4.5 | 0.7170372903781822\n",
      "Gosford Park (2001) | 4.0 | 5\n",
      "Sunshine (2007) | 2.0 | 5\n",
      "Time Machine, The (2002) | 0.5 | 2.966921571394393\n",
      "Legends of the Fall (1994) | 4.0 | 4.592901540450845\n",
      "American Gangster (2007) | 3.5 | 5\n"
     ]
    }
   ],
   "source": [
    "def print_prediction_table(prediction, test, num_predictions=10):\n",
    "    # TODO: copypaste\n",
    "    test_cleaned = test.copy()\n",
    "    not_present_in_train = np.where(prediction == None)[0]\n",
    "    test_cleaned.reset_index(drop=True, inplace=True)\n",
    "    valid_test = test_cleaned.drop(not_present_in_train)\n",
    "    valid_prediction = prediction[prediction != None]\n",
    "    \n",
    "    # Clip predictions\n",
    "    MIN_RATING = 0\n",
    "    MAX_RATING = 5\n",
    "    valid_prediction = np.clip(valid_prediction, MIN_RATING, MAX_RATING)\n",
    "\n",
    "    print(\"Prediction examples\")\n",
    "    print(\"Movie | True rating | Predicted rating\")\n",
    "    random_idxs = np.random.randint(0, valid_test.shape[0], min(num_predictions, valid_test.shape[0]))\n",
    "    for idx in random_idxs:\n",
    "        # TODO: some bug in indexing\n",
    "        title = get_movie_title(movies_df, valid_test.loc[idx, 'movieId'])\n",
    "        true_rating = valid_test.loc[idx, 'rating']\n",
    "        predicted_rating = valid_prediction[idx]\n",
    "        print(f\"{title} | {true_rating} | {predicted_rating}\")\n",
    "\n",
    "print_prediction_table(pred, test)\n"
   ]
  },
  {
   "cell_type": "code",
   "execution_count": 14,
   "id": "5e96fef8",
   "metadata": {},
   "outputs": [
    {
     "name": "stdout",
     "output_type": "stream",
     "text": [
      "Test MAE: 2.21\n",
      "Test RMSE: 6.83\n"
     ]
    }
   ],
   "source": [
    "def test_svd_prediction(test, prediction):\n",
    "    # Drop movies that are not present in train set - we cannot predict anything for them\n",
    "    test_rating = test['rating'].copy()\n",
    "    not_present_in_train = np.where(prediction == None)[0]\n",
    "    test_rating.reset_index(drop=True, inplace=True)\n",
    "    valid_test_rating = test_rating.drop(not_present_in_train)\n",
    "    valid_prediction = prediction[prediction != None]\n",
    "\n",
    "    # Clip predictions\n",
    "    MIN_RATING = 0\n",
    "    MAX_RATING = 5\n",
    "    valid_prediction = np.clip(valid_prediction, MIN_RATING, MAX_RATING)\n",
    "    \n",
    "    mae = mean_absolute_error(valid_test_rating, valid_prediction)\n",
    "    rmse = mean_squared_error(valid_test_rating, valid_prediction)\n",
    "    print(f'Test MAE: {mae:.2f}')\n",
    "    print(f'Test RMSE: {rmse:.2f}')\n",
    "\n",
    "test_svd_prediction(test, prediction=pred)\n"
   ]
  },
  {
   "cell_type": "markdown",
   "id": "eaef1b8b",
   "metadata": {},
   "source": [
    "### SVD short matrix computation (scipy.sparse.linalg.svds)\n"
   ]
  },
  {
   "cell_type": "code",
   "execution_count": 15,
   "id": "624bb8ab",
   "metadata": {},
   "outputs": [
    {
     "name": "stdout",
     "output_type": "stream",
     "text": [
      "Test MAE: 1.98\n",
      "Test RMSE: 5.72\n"
     ]
    }
   ],
   "source": [
    "def sparse_svd(utility_matrix, num_features):\n",
    "    \"\"\"\n",
    "    Calculate SVD on a sparse matrix.\n",
    "\n",
    "    Input:\n",
    "        utility_matrix - sparse utility matrix, users x items\n",
    "        num_features   - number of latent features\n",
    "    Output:\n",
    "        P              - user matrix, shape is num_users x num_features\n",
    "        S              - singular values, num_features\n",
    "        Q              - item matrix, shape is num_users x num_features\n",
    "        item_average   - average item rating (including only existing ratings)\n",
    "    \"\"\"\n",
    "    item_average = utility_matrix.sum(axis=0)\n",
    "\n",
    "    for idx in range(utility_matrix.shape[1]):\n",
    "        item_average[0,idx] /= utility_matrix[:,idx].count_nonzero()\n",
    "    \n",
    "    normalized_utility_matrix = utility_matrix - item_average\n",
    "    P, S, Q = scipy.sparse.linalg.svds(normalized_utility_matrix, num_features)\n",
    "    return P, S, Q, item_average\n",
    "    \n",
    "P, S, Q, item_average = sparse_svd(utility_matrix, num_features=15)\n",
    "\n",
    "pred = svd_predict(test, U, S, V, item_average)\n",
    "test_svd_prediction(test, prediction=pred)"
   ]
  },
  {
   "cell_type": "code",
   "execution_count": 16,
   "id": "5e96fef8",
   "metadata": {},
   "outputs": [
    {
     "name": "stdout",
     "output_type": "stream",
     "text": [
      "Test MAE: 1.98\n",
      "Test RMSE: 5.72\n"
     ]
    }
   ],
   "source": [
    "def test_svd_prediction(test, prediction):\n",
    "    # Drop movies that are not present in train set - we cannot predict anything for them\n",
    "    test_rating = test['rating']\n",
    "    not_present_in_train = np.where(prediction == None)[0]\n",
    "    test_rating.reset_index(drop=True, inplace=True)\n",
    "    valid_test_rating = test_rating.drop(not_present_in_train)\n",
    "    valid_prediction = prediction[prediction != None]\n",
    "\n",
    "    # Clip predictions\n",
    "    MIN_RATING = 0\n",
    "    MAX_RATING = 5\n",
    "    valid_prediction = np.clip(valid_prediction, MIN_RATING, MAX_RATING)\n",
    "    \n",
    "    mae = mean_absolute_error(valid_test_rating, valid_prediction)\n",
    "    rmse = mean_squared_error(valid_test_rating, valid_prediction)\n",
    "    print(f'Test MAE: {mae:.2f}')\n",
    "    print(f'Test RMSE: {rmse:.2f}')\n",
    "\n",
    "test_svd_prediction(test, prediction=pred)"
   ]
  },
  {
   "cell_type": "code",
   "execution_count": 18,
   "id": "f55d7713",
   "metadata": {},
   "outputs": [
    {
     "name": "stdout",
     "output_type": "stream",
     "text": [
      "Prediction examples\n",
      "Movie | True rating | Predicted rating\n",
      "12 Rounds (2009) | 2.0 | 5\n",
      "12 Years a Slave (2013) | 2.5 | 5\n",
      "Thelma & Louise (1991) | 1.0 | 5\n",
      "Despicable Me (2010) | 4.0 | 5\n",
      "Léon: The Professional (a.k.a. The Professional) (Léon) (1994) | 4.5 | 5\n",
      "K-19: The Widowmaker (2002) | 4.5 | 5\n",
      "Wayne's World 2 (1993) | 2.0 | 3.6169762902310385\n",
      "Lucy (2014) | 2.5 | 5\n",
      "Back to the Future Part III (1990) | 4.0 | 0\n",
      "Eve's Bayou (1997) | 5.0 | 5\n"
     ]
    }
   ],
   "source": [
    "print_prediction_table(pred, test)"
   ]
  }
 ],
 "metadata": {
  "kernelspec": {
   "display_name": "Python 3 (ipykernel)",
   "language": "python",
   "name": "python3"
  },
  "language_info": {
   "codemirror_mode": {
    "name": "ipython",
    "version": 3
   },
   "file_extension": ".py",
   "mimetype": "text/x-python",
   "name": "python",
   "nbconvert_exporter": "python",
   "pygments_lexer": "ipython3",
   "version": "3.8.10"
  }
 },
 "nbformat": 4,
 "nbformat_minor": 5
}
